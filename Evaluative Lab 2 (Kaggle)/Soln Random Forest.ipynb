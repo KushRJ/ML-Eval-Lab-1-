{
 "cells": [
  {
   "cell_type": "code",
   "execution_count": 9,
   "metadata": {
    "collapsed": true
   },
   "outputs": [],
   "source": [
    "import numpy as np\n",
    "import pandas as pd\n",
    "from matplotlib import pyplot as plt\n",
    "%matplotlib inline\n",
    "import seaborn as sns\n",
    "\n",
    "data = pd.read_csv('train_lab3.csv')\n",
    "test = pd.read_csv('test_data.csv')\n",
    "\n",
    "X = data.drop(['bestSoldierPerc','Unnamed: 0','shipId','soldierId','assists'],axis = 1)\n",
    "test2 = test.drop(['Unnamed: 0','shipId','soldierId','assists'],axis = 1)\n",
    "\n",
    "y = data['bestSoldierPerc']"
   ]
  },
  {
   "cell_type": "code",
   "execution_count": 10,
   "metadata": {
    "collapsed": true
   },
   "outputs": [],
   "source": [
    "corr = data.corr()\n",
    "\n",
    "columns = np.full((corr.shape[0],), True, dtype=bool)\n",
    "for i in range(corr.shape[0]):\n",
    "    for j in range(i+1, corr.shape[0]):\n",
    "        if corr.iloc[i,j] >= 0.9:\n",
    "            if columns[j]:\n",
    "                columns[j] = False\n",
    "selected_columns = data.columns[columns]\n",
    "data = data[selected_columns]\n",
    "selected_columns = selected_columns[0:-1]\n",
    "test = test[selected_columns]"
   ]
  },
  {
   "cell_type": "code",
   "execution_count": 11,
   "metadata": {},
   "outputs": [
    {
     "data": {
      "text/plain": [
       "array([[7.94481805e-01, 0.00000000e+00, 0.00000000e+00, ...,\n",
       "        1.86821705e-03, 0.00000000e+00, 7.37921906e-01],\n",
       "       [7.12463076e-01, 0.00000000e+00, 5.67740407e-04, ...,\n",
       "        1.40891473e-01, 1.25000000e-01, 7.60423561e-01],\n",
       "       [2.36440199e-01, 0.00000000e+00, 2.36854571e-02, ...,\n",
       "        1.31395349e-01, 1.25000000e-01, 7.14096625e-01],\n",
       "       ...,\n",
       "       [9.20222907e-01, 0.00000000e+00, 1.21743250e-03, ...,\n",
       "        5.23643411e-03, 3.57142857e-02, 7.37921906e-01],\n",
       "       [3.47516393e-01, 2.14285714e-01, 6.00189484e-02, ...,\n",
       "        2.50000000e-01, 1.25000000e-01, 7.37921906e-01],\n",
       "       [2.92941990e-01, 0.00000000e+00, 2.40170535e-02, ...,\n",
       "        1.42538760e-02, 1.78571429e-02, 7.36598279e-01]])"
      ]
     },
     "execution_count": 11,
     "metadata": {},
     "output_type": "execute_result"
    }
   ],
   "source": [
    "from sklearn.preprocessing import MinMaxScaler\n",
    "scaler = MinMaxScaler()\n",
    "scaler.fit_transform(X,y)"
   ]
  },
  {
   "cell_type": "code",
   "execution_count": 12,
   "metadata": {},
   "outputs": [],
   "source": [
    "import sklearn\n",
    "from sklearn.ensemble import RandomForestClassifier\n",
    "\n",
    "rf = RandomForestClassifier(n_estimators=600,min_samples_leaf = 2,max_depth = 20,random_state=0,n_jobs = 50)\n",
    "rf.fit(X,y)\n",
    "\n",
    "y_pred = rf.predict(test2)"
   ]
  },
  {
   "cell_type": "code",
   "execution_count": 13,
   "metadata": {
    "collapsed": true
   },
   "outputs": [],
   "source": [
    "df_soln = pd.DataFrame(data = [test['soldierId'], y_pred], index = None)\n",
    "df = df_soln.transpose()\n",
    "df['soldierId'] = df['soldierId'].astype(float)\n",
    "df.columns = ['soldierId','bestSoldierPerc']\n",
    "df['bestSoldierPerc'] = df['bestSoldierPerc'].astype(int)\n",
    "df.to_csv('soln rf_2.csv',index = False)"
   ]
  },
  {
   "cell_type": "code",
   "execution_count": null,
   "metadata": {
    "collapsed": true
   },
   "outputs": [],
   "source": []
  }
 ],
 "metadata": {
  "kernelspec": {
   "display_name": "Python 3",
   "language": "python",
   "name": "python3"
  },
  "language_info": {
   "codemirror_mode": {
    "name": "ipython",
    "version": 3
   },
   "file_extension": ".py",
   "mimetype": "text/x-python",
   "name": "python",
   "nbconvert_exporter": "python",
   "pygments_lexer": "ipython3",
   "version": "3.6.1"
  }
 },
 "nbformat": 4,
 "nbformat_minor": 2
}
