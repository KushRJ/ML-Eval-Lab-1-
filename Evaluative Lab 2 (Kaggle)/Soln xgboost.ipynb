{
 "cells": [
  {
   "cell_type": "code",
   "execution_count": 1,
   "metadata": {
    "collapsed": true
   },
   "outputs": [],
   "source": [
    "import numpy as np\n",
    "import pandas as pd\n",
    "from matplotlib import pyplot as plt\n",
    "%matplotlib inline\n",
    "import seaborn as sns\n",
    "import xgboost as xgb"
   ]
  },
  {
   "cell_type": "code",
   "execution_count": 2,
   "metadata": {},
   "outputs": [
    {
     "data": {
      "text/html": [
       "<div>\n",
       "<style>\n",
       "    .dataframe thead tr:only-child th {\n",
       "        text-align: right;\n",
       "    }\n",
       "\n",
       "    .dataframe thead th {\n",
       "        text-align: left;\n",
       "    }\n",
       "\n",
       "    .dataframe tbody tr th {\n",
       "        vertical-align: top;\n",
       "    }\n",
       "</style>\n",
       "<table border=\"1\" class=\"dataframe\">\n",
       "  <thead>\n",
       "    <tr style=\"text-align: right;\">\n",
       "      <th></th>\n",
       "      <th>Unnamed: 0</th>\n",
       "      <th>soldierId</th>\n",
       "      <th>shipId</th>\n",
       "      <th>attackId</th>\n",
       "      <th>assists</th>\n",
       "      <th>greekFireItems</th>\n",
       "      <th>healthLost</th>\n",
       "      <th>knockedOutSoldiers</th>\n",
       "      <th>throatSlits</th>\n",
       "      <th>healingPotionsUsed</th>\n",
       "      <th>...</th>\n",
       "      <th>numSaves</th>\n",
       "      <th>horseRideDistance</th>\n",
       "      <th>horseRideKills</th>\n",
       "      <th>swimmingDistance</th>\n",
       "      <th>friendlyKills</th>\n",
       "      <th>castleTowerDestroys</th>\n",
       "      <th>onFootDistance</th>\n",
       "      <th>weaponsUsed</th>\n",
       "      <th>respectEarned</th>\n",
       "      <th>bestSoldierPerc</th>\n",
       "    </tr>\n",
       "  </thead>\n",
       "  <tbody>\n",
       "    <tr>\n",
       "      <th>0</th>\n",
       "      <td>0</td>\n",
       "      <td>37923.0</td>\n",
       "      <td>1227634.0</td>\n",
       "      <td>37923.0</td>\n",
       "      <td>0.0</td>\n",
       "      <td>0.0</td>\n",
       "      <td>0.000</td>\n",
       "      <td>0.0</td>\n",
       "      <td>0.0</td>\n",
       "      <td>0.0</td>\n",
       "      <td>...</td>\n",
       "      <td>0.0</td>\n",
       "      <td>0.0</td>\n",
       "      <td>0.0</td>\n",
       "      <td>0.0</td>\n",
       "      <td>0.0</td>\n",
       "      <td>0.0</td>\n",
       "      <td>19.28</td>\n",
       "      <td>0.0</td>\n",
       "      <td>1500.0</td>\n",
       "      <td>4</td>\n",
       "    </tr>\n",
       "    <tr>\n",
       "      <th>1</th>\n",
       "      <td>1</td>\n",
       "      <td>102199.0</td>\n",
       "      <td>1055335.0</td>\n",
       "      <td>34008.0</td>\n",
       "      <td>0.0</td>\n",
       "      <td>0.0</td>\n",
       "      <td>2.397</td>\n",
       "      <td>0.0</td>\n",
       "      <td>0.0</td>\n",
       "      <td>2.0</td>\n",
       "      <td>...</td>\n",
       "      <td>0.0</td>\n",
       "      <td>5361.0</td>\n",
       "      <td>0.0</td>\n",
       "      <td>0.0</td>\n",
       "      <td>0.0</td>\n",
       "      <td>0.0</td>\n",
       "      <td>1454.00</td>\n",
       "      <td>7.0</td>\n",
       "      <td>1534.0</td>\n",
       "      <td>2</td>\n",
       "    </tr>\n",
       "    <tr>\n",
       "      <th>2</th>\n",
       "      <td>2</td>\n",
       "      <td>79478.0</td>\n",
       "      <td>58240.0</td>\n",
       "      <td>11286.0</td>\n",
       "      <td>0.0</td>\n",
       "      <td>0.0</td>\n",
       "      <td>100.000</td>\n",
       "      <td>0.0</td>\n",
       "      <td>0.0</td>\n",
       "      <td>0.0</td>\n",
       "      <td>...</td>\n",
       "      <td>0.0</td>\n",
       "      <td>0.0</td>\n",
       "      <td>0.0</td>\n",
       "      <td>0.0</td>\n",
       "      <td>0.0</td>\n",
       "      <td>0.0</td>\n",
       "      <td>1356.00</td>\n",
       "      <td>7.0</td>\n",
       "      <td>1464.0</td>\n",
       "      <td>2</td>\n",
       "    </tr>\n",
       "    <tr>\n",
       "      <th>3</th>\n",
       "      <td>3</td>\n",
       "      <td>93908.0</td>\n",
       "      <td>691063.0</td>\n",
       "      <td>25716.0</td>\n",
       "      <td>1.0</td>\n",
       "      <td>0.0</td>\n",
       "      <td>199.800</td>\n",
       "      <td>1.0</td>\n",
       "      <td>0.0</td>\n",
       "      <td>2.0</td>\n",
       "      <td>...</td>\n",
       "      <td>0.0</td>\n",
       "      <td>0.0</td>\n",
       "      <td>0.0</td>\n",
       "      <td>0.0</td>\n",
       "      <td>0.0</td>\n",
       "      <td>0.0</td>\n",
       "      <td>528.60</td>\n",
       "      <td>3.0</td>\n",
       "      <td>1503.0</td>\n",
       "      <td>3</td>\n",
       "    </tr>\n",
       "    <tr>\n",
       "      <th>4</th>\n",
       "      <td>4</td>\n",
       "      <td>23653.0</td>\n",
       "      <td>601253.0</td>\n",
       "      <td>23653.0</td>\n",
       "      <td>0.0</td>\n",
       "      <td>0.0</td>\n",
       "      <td>156.000</td>\n",
       "      <td>1.0</td>\n",
       "      <td>0.0</td>\n",
       "      <td>0.0</td>\n",
       "      <td>...</td>\n",
       "      <td>0.0</td>\n",
       "      <td>0.0</td>\n",
       "      <td>0.0</td>\n",
       "      <td>0.0</td>\n",
       "      <td>0.0</td>\n",
       "      <td>0.0</td>\n",
       "      <td>1429.00</td>\n",
       "      <td>4.0</td>\n",
       "      <td>1451.0</td>\n",
       "      <td>3</td>\n",
       "    </tr>\n",
       "  </tbody>\n",
       "</table>\n",
       "<p>5 rows × 26 columns</p>\n",
       "</div>"
      ],
      "text/plain": [
       "   Unnamed: 0  soldierId     shipId  attackId  assists  greekFireItems  \\\n",
       "0           0    37923.0  1227634.0   37923.0      0.0             0.0   \n",
       "1           1   102199.0  1055335.0   34008.0      0.0             0.0   \n",
       "2           2    79478.0    58240.0   11286.0      0.0             0.0   \n",
       "3           3    93908.0   691063.0   25716.0      1.0             0.0   \n",
       "4           4    23653.0   601253.0   23653.0      0.0             0.0   \n",
       "\n",
       "   healthLost  knockedOutSoldiers  throatSlits  healingPotionsUsed  \\\n",
       "0       0.000                 0.0          0.0                 0.0   \n",
       "1       2.397                 0.0          0.0                 2.0   \n",
       "2     100.000                 0.0          0.0                 0.0   \n",
       "3     199.800                 1.0          0.0                 2.0   \n",
       "4     156.000                 1.0          0.0                 0.0   \n",
       "\n",
       "        ...         numSaves  horseRideDistance  horseRideKills  \\\n",
       "0       ...              0.0                0.0             0.0   \n",
       "1       ...              0.0             5361.0             0.0   \n",
       "2       ...              0.0                0.0             0.0   \n",
       "3       ...              0.0                0.0             0.0   \n",
       "4       ...              0.0                0.0             0.0   \n",
       "\n",
       "   swimmingDistance  friendlyKills  castleTowerDestroys  onFootDistance  \\\n",
       "0               0.0            0.0                  0.0           19.28   \n",
       "1               0.0            0.0                  0.0         1454.00   \n",
       "2               0.0            0.0                  0.0         1356.00   \n",
       "3               0.0            0.0                  0.0          528.60   \n",
       "4               0.0            0.0                  0.0         1429.00   \n",
       "\n",
       "   weaponsUsed  respectEarned  bestSoldierPerc  \n",
       "0          0.0         1500.0                4  \n",
       "1          7.0         1534.0                2  \n",
       "2          7.0         1464.0                2  \n",
       "3          3.0         1503.0                3  \n",
       "4          4.0         1451.0                3  \n",
       "\n",
       "[5 rows x 26 columns]"
      ]
     },
     "execution_count": 2,
     "metadata": {},
     "output_type": "execute_result"
    }
   ],
   "source": [
    "data = pd.read_csv('train_lab3.csv')\n",
    "test = pd.read_csv('test_data.csv')\n",
    "data.head()"
   ]
  },
  {
   "cell_type": "code",
   "execution_count": 3,
   "metadata": {
    "collapsed": true
   },
   "outputs": [],
   "source": [
    "corr = data.corr()\n",
    "\n",
    "columns = np.full((corr.shape[0],), True, dtype=bool)\n",
    "for i in range(corr.shape[0]):\n",
    "    for j in range(i+1, corr.shape[0]):\n",
    "        if corr.iloc[i,j] >= 0.9:\n",
    "            if columns[j]:\n",
    "                columns[j] = False\n",
    "selected_columns = data.columns[columns]\n",
    "data = data[selected_columns]\n",
    "selected_columns = selected_columns[0:-1]\n",
    "test = test[selected_columns]"
   ]
  },
  {
   "cell_type": "code",
   "execution_count": 4,
   "metadata": {
    "collapsed": true
   },
   "outputs": [],
   "source": [
    "X = data.drop(['bestSoldierPerc'],axis = 1)\n",
    "y = data['bestSoldierPerc']"
   ]
  },
  {
   "cell_type": "code",
   "execution_count": 5,
   "metadata": {},
   "outputs": [
    {
     "data": {
      "text/plain": [
       "<matplotlib.axes._subplots.AxesSubplot at 0x2669c187198>"
      ]
     },
     "execution_count": 5,
     "metadata": {},
     "output_type": "execute_result"
    },
    {
     "data": {
      "image/png": "[encoded data removed]",
      "text/plain": [
       "<matplotlib.figure.Figure at 0x2669b96b2e8>"
      ]
     },
     "metadata": {},
     "output_type": "display_data"
    }
   ],
   "source": [
    "plt.figure()\n",
    "sns.heatmap(data.corr())"
   ]
  },
  {
   "cell_type": "code",
   "execution_count": 6,
   "metadata": {},
   "outputs": [
    {
     "data": {
      "text/plain": [
       "array([[0.00000000e+00, 2.69100845e-01, 4.54578343e-01, ...,\n",
       "        1.86821705e-03, 0.00000000e+00, 7.37921906e-01],\n",
       "       [1.42859184e-05, 7.25250160e-01, 3.90777958e-01, ...,\n",
       "        1.40891473e-01, 1.25000000e-01, 7.60423561e-01],\n",
       "       [2.85718367e-05, 5.64005394e-01, 2.15648774e-02, ...,\n",
       "        1.31395349e-01, 1.25000000e-01, 7.14096625e-01],\n",
       "       ...,\n",
       "       [9.99971428e-01, 7.95628415e-01, 5.52580080e-01, ...,\n",
       "        5.23643411e-03, 3.57142857e-02, 7.37921906e-01],\n",
       "       [9.99985714e-01, 1.17692144e-01, 1.07905850e-01, ...,\n",
       "        2.50000000e-01, 1.25000000e-01, 7.37921906e-01],\n",
       "       [1.00000000e+00, 5.83145270e-01, 6.59850885e-02, ...,\n",
       "        1.42538760e-02, 1.78571429e-02, 7.36598279e-01]])"
      ]
     },
     "execution_count": 6,
     "metadata": {},
     "output_type": "execute_result"
    }
   ],
   "source": [
    "from sklearn.preprocessing import MinMaxScaler\n",
    "scaler = MinMaxScaler()\n",
    "scaler.fit_transform(X,y)"
   ]
  },
  {
   "cell_type": "code",
   "execution_count": 11,
   "metadata": {},
   "outputs": [
    {
     "data": {
      "text/plain": [
       "XGBRegressor(base_score=0.5, booster='gbtree', colsample_bylevel=1,\n",
       "       colsample_bytree=1, gamma=0, learning_rate=0.1, max_delta_step=0,\n",
       "       max_depth=10, min_child_weight=1, missing=None, n_estimators=300,\n",
       "       n_jobs=1, nthread=None, objective='reg:linear', random_state=0,\n",
       "       reg_alpha=0, reg_lambda=1, scale_pos_weight=1, seed=None,\n",
       "       silent=True, subsample=1)"
      ]
     },
     "execution_count": 11,
     "metadata": {},
     "output_type": "execute_result"
    }
   ],
   "source": [
    "xg_reg = xgb.XGBRegressor(learning_rate = 0.1,\n",
    "                max_depth = 10, n_estimators = 300, random_state = 0)\n",
    "xg_reg.fit(X,y)"
   ]
  },
  {
   "cell_type": "code",
   "execution_count": 12,
   "metadata": {
    "collapsed": true
   },
   "outputs": [],
   "source": [
    "y_pred = xg_reg.predict(test)"
   ]
  },
  {
   "cell_type": "code",
   "execution_count": 13,
   "metadata": {
    "collapsed": true
   },
   "outputs": [],
   "source": [
    "df_soln = pd.DataFrame(data = [test['soldierId'], y_pred], index = None)\n",
    "df = df_soln.transpose()\n",
    "df['soldierId'] = df['soldierId'].astype(float)\n",
    "df.columns = ['soldierId','bestSoldierPerc']\n",
    "df['bestSoldierPerc'] = df['bestSoldierPerc'].astype(int)\n",
    "df.to_csv('soln xgboost_2.csv',index = False)"
   ]
  },
  {
   "cell_type": "code",
   "execution_count": null,
   "metadata": {
    "collapsed": true
   },
   "outputs": [],
   "source": []
  }
 ],
 "metadata": {
  "kernelspec": {
   "display_name": "Python 3",
   "language": "python",
   "name": "python3"
  },
  "language_info": {
   "codemirror_mode": {
    "name": "ipython",
    "version": 3
   },
   "file_extension": ".py",
   "mimetype": "text/x-python",
   "name": "python",
   "nbconvert_exporter": "python",
   "pygments_lexer": "ipython3",
   "version": "3.6.1"
  }
 },
 "nbformat": 4,
 "nbformat_minor": 2
}
