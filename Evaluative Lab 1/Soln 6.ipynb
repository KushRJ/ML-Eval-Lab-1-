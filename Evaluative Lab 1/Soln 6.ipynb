{
 "cells": [
  {
   "cell_type": "code",
   "execution_count": 1,
   "metadata": {
    "collapsed": true
   },
   "outputs": [],
   "source": [
    "import matplotlib.pyplot as plt \n",
    "import seaborn as sns\n",
    "import pandas as pd\n",
    "import numpy as np\n",
    "\n",
    "data = pd.read_csv('train.csv')"
   ]
  },
  {
   "cell_type": "code",
   "execution_count": 2,
   "metadata": {
    "collapsed": true
   },
   "outputs": [],
   "source": [
    "x_train = data.drop(['year','AveragePrice','Total Bags'], axis = 1)\n",
    "y_train = data['AveragePrice']\n",
    "\n",
    "test = pd.read_csv('test.csv')\n",
    "x_test = test.drop(['year','Total Bags'], axis = 1)\n",
    "\n",
    "from sklearn.preprocessing import MinMaxScaler\n",
    "m = MinMaxScaler()\n",
    "df =data\n",
    "m.fit_transform(df)\n",
    "\n",
    "x_train01 = df.drop(['year','AveragePrice','Total Bags'], axis = 1)\n",
    "y_train01 = df['AveragePrice']"
   ]
  },
  {
   "cell_type": "code",
   "execution_count": 6,
   "metadata": {},
   "outputs": [],
   "source": [
    "from sklearn.ensemble import RandomForestRegressor\n",
    "\n",
    "regressor = RandomForestRegressor(n_estimators=700, n_jobs = -1)  \n",
    "regressor.fit(x_train01, y_train01)  \n",
    "y_pred = regressor.predict(x_test)  "
   ]
  },
  {
   "cell_type": "code",
   "execution_count": 7,
   "metadata": {
    "collapsed": true
   },
   "outputs": [],
   "source": [
    "df_soln = pd.DataFrame(data = [test['id'], y_pred], index = None)\n",
    "df = df_soln.transpose()\n",
    "df['id'] = df['id'].astype(int)\n",
    "df.columns = ['id','AveragePrice']\n",
    "df.to_csv('soln17.csv',index = False)"
   ]
  },
  {
   "cell_type": "code",
   "execution_count": null,
   "metadata": {
    "collapsed": true
   },
   "outputs": [],
   "source": []
  }
 ],
 "metadata": {
  "kernelspec": {
   "display_name": "Python 3",
   "language": "python",
   "name": "python3"
  },
  "language_info": {
   "codemirror_mode": {
    "name": "ipython",
    "version": 3
   },
   "file_extension": ".py",
   "mimetype": "text/x-python",
   "name": "python",
   "nbconvert_exporter": "python",
   "pygments_lexer": "ipython3",
   "version": "3.6.1"
  }
 },
 "nbformat": 4,
 "nbformat_minor": 2
}
