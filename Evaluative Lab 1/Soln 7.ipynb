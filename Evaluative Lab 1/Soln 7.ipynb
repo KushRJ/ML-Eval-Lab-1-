{
 "cells": [
  {
   "cell_type": "code",
   "execution_count": 3,
   "metadata": {},
   "outputs": [
    {
     "data": {
      "text/html": [
       "<div>\n",
       "<style>\n",
       "    .dataframe thead tr:only-child th {\n",
       "        text-align: right;\n",
       "    }\n",
       "\n",
       "    .dataframe thead th {\n",
       "        text-align: left;\n",
       "    }\n",
       "\n",
       "    .dataframe tbody tr th {\n",
       "        vertical-align: top;\n",
       "    }\n",
       "</style>\n",
       "<table border=\"1\" class=\"dataframe\">\n",
       "  <thead>\n",
       "    <tr style=\"text-align: right;\">\n",
       "      <th></th>\n",
       "      <th>id</th>\n",
       "      <th>Total Volume</th>\n",
       "      <th>4046</th>\n",
       "      <th>4225</th>\n",
       "      <th>4770</th>\n",
       "      <th>Total Bags</th>\n",
       "      <th>Small Bags</th>\n",
       "      <th>Large Bags</th>\n",
       "      <th>XLarge Bags</th>\n",
       "      <th>type</th>\n",
       "      <th>year</th>\n",
       "      <th>AveragePrice</th>\n",
       "    </tr>\n",
       "  </thead>\n",
       "  <tbody>\n",
       "    <tr>\n",
       "      <th>0</th>\n",
       "      <td>12697</td>\n",
       "      <td>1620.45</td>\n",
       "      <td>102.47</td>\n",
       "      <td>788.49</td>\n",
       "      <td>0.00</td>\n",
       "      <td>729.49</td>\n",
       "      <td>720.00</td>\n",
       "      <td>9.49</td>\n",
       "      <td>0.00</td>\n",
       "      <td>0</td>\n",
       "      <td>2016</td>\n",
       "      <td>1.57</td>\n",
       "    </tr>\n",
       "    <tr>\n",
       "      <th>1</th>\n",
       "      <td>8052</td>\n",
       "      <td>6347964.79</td>\n",
       "      <td>3529761.56</td>\n",
       "      <td>1305030.08</td>\n",
       "      <td>18206.06</td>\n",
       "      <td>1494967.09</td>\n",
       "      <td>1296031.40</td>\n",
       "      <td>183062.26</td>\n",
       "      <td>15873.43</td>\n",
       "      <td>1</td>\n",
       "      <td>2017</td>\n",
       "      <td>0.74</td>\n",
       "    </tr>\n",
       "    <tr>\n",
       "      <th>2</th>\n",
       "      <td>10155</td>\n",
       "      <td>1313.43</td>\n",
       "      <td>97.10</td>\n",
       "      <td>905.10</td>\n",
       "      <td>0.00</td>\n",
       "      <td>311.23</td>\n",
       "      <td>121.72</td>\n",
       "      <td>189.51</td>\n",
       "      <td>0.00</td>\n",
       "      <td>0</td>\n",
       "      <td>2015</td>\n",
       "      <td>1.78</td>\n",
       "    </tr>\n",
       "    <tr>\n",
       "      <th>3</th>\n",
       "      <td>1320</td>\n",
       "      <td>2710710.15</td>\n",
       "      <td>531460.61</td>\n",
       "      <td>1328248.62</td>\n",
       "      <td>203932.87</td>\n",
       "      <td>647068.05</td>\n",
       "      <td>597061.79</td>\n",
       "      <td>48069.52</td>\n",
       "      <td>1936.74</td>\n",
       "      <td>1</td>\n",
       "      <td>2015</td>\n",
       "      <td>1.15</td>\n",
       "    </tr>\n",
       "    <tr>\n",
       "      <th>4</th>\n",
       "      <td>13668</td>\n",
       "      <td>9220.95</td>\n",
       "      <td>3417.54</td>\n",
       "      <td>3561.51</td>\n",
       "      <td>0.00</td>\n",
       "      <td>2241.90</td>\n",
       "      <td>580.64</td>\n",
       "      <td>1661.26</td>\n",
       "      <td>0.00</td>\n",
       "      <td>0</td>\n",
       "      <td>2016</td>\n",
       "      <td>2.13</td>\n",
       "    </tr>\n",
       "  </tbody>\n",
       "</table>\n",
       "</div>"
      ],
      "text/plain": [
       "      id  Total Volume        4046        4225       4770  Total Bags  \\\n",
       "0  12697       1620.45      102.47      788.49       0.00      729.49   \n",
       "1   8052    6347964.79  3529761.56  1305030.08   18206.06  1494967.09   \n",
       "2  10155       1313.43       97.10      905.10       0.00      311.23   \n",
       "3   1320    2710710.15   531460.61  1328248.62  203932.87   647068.05   \n",
       "4  13668       9220.95     3417.54     3561.51       0.00     2241.90   \n",
       "\n",
       "   Small Bags  Large Bags  XLarge Bags  type  year  AveragePrice  \n",
       "0      720.00        9.49         0.00     0  2016          1.57  \n",
       "1  1296031.40   183062.26     15873.43     1  2017          0.74  \n",
       "2      121.72      189.51         0.00     0  2015          1.78  \n",
       "3   597061.79    48069.52      1936.74     1  2015          1.15  \n",
       "4      580.64     1661.26         0.00     0  2016          2.13  "
      ]
     },
     "execution_count": 3,
     "metadata": {},
     "output_type": "execute_result"
    }
   ],
   "source": [
    "import matplotlib.pyplot as plt \n",
    "import seaborn as sns\n",
    "import pandas as pd\n",
    "import numpy as np\n",
    "\n",
    "data = pd.read_csv('train.csv')\n",
    "data.head()"
   ]
  },
  {
   "cell_type": "code",
   "execution_count": 4,
   "metadata": {
    "collapsed": true
   },
   "outputs": [],
   "source": [
    "x_train = data.drop(['year','AveragePrice','Total Bags'], axis = 1)\n",
    "y_train = data['AveragePrice']\n",
    "\n",
    "test = pd.read_csv('test.csv')\n",
    "x_test = test.drop(['year','Total Bags'], axis = 1)\n",
    "\n",
    "from sklearn.preprocessing import MinMaxScaler\n",
    "m = MinMaxScaler()\n",
    "df =data\n",
    "m.fit_transform(df)\n",
    "\n",
    "x_train01 = df.drop(['year','AveragePrice','Total Bags'], axis = 1)\n",
    "y_train01 = df['AveragePrice']"
   ]
  },
  {
   "cell_type": "code",
   "execution_count": null,
   "metadata": {
    "collapsed": true
   },
   "outputs": [],
   "source": [
    "x_train01.shape\n",
    "split = int(0.75*x_train01.shape[0])\n",
    "tr_X = x_train01[:split]\n",
    "tr_Y = y_train01[:split]\n",
    "te_x = x_train01[split:]\n",
    "te_Y = y_train01[split:]"
   ]
  },
  {
   "cell_type": "code",
   "execution_count": 5,
   "metadata": {},
   "outputs": [
    {
     "ename": "NameError",
     "evalue": "name 'te_Y' is not defined",
     "output_type": "error",
     "traceback": [
      "\u001b[1;31m---------------------------------------------------------------------------\u001b[0m",
      "\u001b[1;31mNameError\u001b[0m                                 Traceback (most recent call last)",
      "\u001b[1;32m<ipython-input-5-565928016b42>\u001b[0m in \u001b[0;36m<module>\u001b[1;34m()\u001b[0m\n\u001b[0;32m      9\u001b[0m \u001b[1;33m\u001b[0m\u001b[0m\n\u001b[0;32m     10\u001b[0m     \u001b[1;32mreturn\u001b[0m \u001b[0mrmse\u001b[0m\u001b[1;33m,\u001b[0m\u001b[0mr2\u001b[0m\u001b[1;33m,\u001b[0m\u001b[0mexplained_var_score\u001b[0m\u001b[1;33m\u001b[0m\u001b[0m\n\u001b[1;32m---> 11\u001b[1;33m \u001b[0mrmse\u001b[0m\u001b[1;33m,\u001b[0m\u001b[0mr2\u001b[0m\u001b[1;33m,\u001b[0m\u001b[0mexplained_var_score\u001b[0m \u001b[1;33m=\u001b[0m \u001b[0mperformance_metrics\u001b[0m\u001b[1;33m(\u001b[0m\u001b[0mte_Y\u001b[0m\u001b[1;33m,\u001b[0m\u001b[0my_pred\u001b[0m\u001b[1;33m)\u001b[0m\u001b[1;33m\u001b[0m\u001b[0m\n\u001b[0m\u001b[0;32m     12\u001b[0m \u001b[1;33m\u001b[0m\u001b[0m\n\u001b[0;32m     13\u001b[0m \u001b[0mprint\u001b[0m\u001b[1;33m(\u001b[0m\u001b[1;34m\"Root mean squared error:{} \\nR2-score:{} \\nExplained variance score:{}\"\u001b[0m\u001b[1;33m.\u001b[0m\u001b[0mformat\u001b[0m\u001b[1;33m(\u001b[0m\u001b[0mrmse\u001b[0m\u001b[1;33m,\u001b[0m\u001b[0mr2\u001b[0m\u001b[1;33m,\u001b[0m\u001b[0mexplained_var_score\u001b[0m\u001b[1;33m)\u001b[0m\u001b[1;33m)\u001b[0m\u001b[1;33m\u001b[0m\u001b[0m\n",
      "\u001b[1;31mNameError\u001b[0m: name 'te_Y' is not defined"
     ]
    }
   ],
   "source": [
    "from sklearn.metrics import r2_score\n",
    "from sklearn.metrics import mean_absolute_error\n",
    "from sklearn.metrics import explained_variance_score\n",
    "\n",
    "def performance_metrics(y_true,y_pred):\n",
    "    rmse = mean_absolute_error(y_true,y_pred)\n",
    "    r2 = r2_score(y_true,y_pred)\n",
    "    explained_var_score = explained_variance_score(y_true,y_pred)\n",
    "    \n",
    "    return rmse,r2,explained_var_score"
   ]
  },
  {
   "cell_type": "code",
   "execution_count": null,
   "metadata": {
    "collapsed": true
   },
   "outputs": [],
   "source": [
    "from sklearn.ensemble import RandomForestRegressor\n",
    "\n",
    "regressor = RandomForestRegressor(n_estimators=700, n_jobs = -1)  \n",
    "regressor.fit(tr_X,tr_Y)  \n",
    "y_pred = regressor.predict(te_x) \n",
    "\n",
    "rmse,r2,explained_var_score = performance_metrics(te_Y,y_pred)\n",
    "\n",
    "print(\"Root mean squared error:{} \\nR2-score:{} \\nExplained variance score:{}\".format(rmse,r2,explained_var_score))"
   ]
  },
  {
   "cell_type": "code",
   "execution_count": 8,
   "metadata": {
    "collapsed": true
   },
   "outputs": [],
   "source": [
    "df_soln = pd.DataFrame(data = [test['id'], y_pred], index = None)\n",
    "df = df_soln.transpose()\n",
    "df['id'] = df['id'].astype(int)\n",
    "df.columns = ['id','AveragePrice']\n",
    "df.to_csv('soln 17.csv',index = False)"
   ]
  }
 ],
 "metadata": {
  "kernelspec": {
   "display_name": "Python 3",
   "language": "python",
   "name": "python3"
  },
  "language_info": {
   "codemirror_mode": {
    "name": "ipython",
    "version": 3
   },
   "file_extension": ".py",
   "mimetype": "text/x-python",
   "name": "python",
   "nbconvert_exporter": "python",
   "pygments_lexer": "ipython3",
   "version": "3.6.1"
  }
 },
 "nbformat": 4,
 "nbformat_minor": 2
}
