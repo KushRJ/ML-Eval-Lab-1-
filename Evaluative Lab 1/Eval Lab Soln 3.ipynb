{
 "cells": [
  {
   "cell_type": "code",
   "execution_count": null,
   "metadata": {
    "collapsed": true
   },
   "outputs": [],
   "source": [
    "import matplotlib.pyplot as plt \n",
    "import seaborn as sns\n",
    "import pandas as pd\n",
    "import numpy as np\n",
    "\n",
    "data = pd.read_csv('train.csv')"
   ]
  },
  {
   "cell_type": "code",
   "execution_count": null,
   "metadata": {
    "collapsed": true
   },
   "outputs": [],
   "source": [
    "x_train = data.drop(['year','AveragePrice','Total Bags'], axis = 1)\n",
    "y_train = data['AveragePrice']\n",
    "\n",
    "test = pd.read_csv('test.csv')\n",
    "x_test = test.drop(['year','Total Bags'], axis = 1)\n",
    "\n",
    "from sklearn.preprocessing import MinMaxScaler\n",
    "m = MinMaxScaler()\n",
    "df =data\n",
    "m.fit_transform(df)\n",
    "\n",
    "x_train01 = df.drop(['year','AveragePrice','Total Bags'], axis = 1)\n",
    "y_train01 = df['AveragePrice']"
   ]
  },
  {
   "cell_type": "code",
   "execution_count": null,
   "metadata": {
    "collapsed": true
   },
   "outputs": [],
   "source": [
    "x_train01.shape\n",
    "split = int(0.75*x_train01.shape[0])\n",
    "tr_X = x_train01[:split]\n",
    "tr_Y = y_train01[:split]\n",
    "te_x = x_train01[split:]\n",
    "te_Y = y_train01[split:]"
   ]
  },
  {
   "cell_type": "code",
   "execution_count": null,
   "metadata": {},
   "outputs": [],
   "source": [
    "y_pred = model.predict(te_x)\n",
    "\n",
    "rmse,r2,explained_var_score = performance_metrics(te_Y,y_pred)\n",
    "print(\"Root mean squared error:{} \\nR2-score:{} \\nExplained variance score:{}\".format(rmse,r2,explained_var_score))"
   ]
  }
 ],
 "metadata": {
  "kernelspec": {
   "display_name": "Python 3",
   "language": "python",
   "name": "python3"
  },
  "language_info": {
   "codemirror_mode": {
    "name": "ipython",
    "version": 3
   },
   "file_extension": ".py",
   "mimetype": "text/x-python",
   "name": "python",
   "nbconvert_exporter": "python",
   "pygments_lexer": "ipython3",
   "version": "3.6.1"
  }
 },
 "nbformat": 4,
 "nbformat_minor": 2
}
